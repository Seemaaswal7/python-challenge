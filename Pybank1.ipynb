{
 "cells": [
  {
   "cell_type": "code",
   "execution_count": 1,
   "id": "788bd8d9-d15e-480f-b8f0-fb47b153826c",
   "metadata": {},
   "outputs": [],
   "source": [
    "from pathlib import Path\n",
    "import csv"
   ]
  },
  {
   "cell_type": "code",
   "execution_count": 3,
   "id": "f0b0143c-dced-446d-a152-34acde6d9aa7",
   "metadata": {
    "tags": []
   },
   "outputs": [],
   "source": [
    "filepath = path(\"budget_data.csv\")"
   ]
  },
  {
   "cell_type": "code",
   "execution_count": 25,
   "id": "a9c18e92-5254-4929-8620-468ba58af09b",
   "metadata": {},
   "outputs": [],
   "source": [
    "monthstotal = 0\n",
    "changemonth = []\n",
    "changelist = []\n",
    "greatestincrease = [\"\", 0 ]\n",
    "greatestdecrease = [\"\", 99999999999999]\n",
    "totalpl = 0"
   ]
  },
  {
   "cell_type": "code",
   "execution_count": 26,
   "id": "5151a845-74d5-4def-9592-6262d14bd302",
   "metadata": {},
   "outputs": [],
   "source": [
    "with open(filepath) as budgetdata:\n",
    "   reader = csv.reader(budgetdata)\n",
    "   # read the header row\n",
    "   header = next(reader)"
   ]
  },
  {
   "cell_type": "code",
   "execution_count": 27,
   "id": "e9b1b5e0-00ff-4889-a7c0-b2a5afc7add0",
   "metadata": {},
   "outputs": [
    {
     "ename": "ValueError",
     "evalue": "I/O operation on closed file.",
     "output_type": "error",
     "traceback": [
      "\u001b[1;31m---------------------------------------------------------------------------\u001b[0m",
      "\u001b[1;31mValueError\u001b[0m                                Traceback (most recent call last)",
      "\u001b[1;32m~\\AppData\\Local\\Temp\\ipykernel_10376\\1117553688.py\u001b[0m in \u001b[0;36m<module>\u001b[1;34m\u001b[0m\n\u001b[1;32m----> 1\u001b[1;33m \u001b[0mfirstrow\u001b[0m \u001b[1;33m=\u001b[0m \u001b[0mnext\u001b[0m\u001b[1;33m(\u001b[0m\u001b[0mreader\u001b[0m\u001b[1;33m)\u001b[0m\u001b[1;33m\u001b[0m\u001b[1;33m\u001b[0m\u001b[0m\n\u001b[0m\u001b[0;32m      2\u001b[0m \u001b[0mmonthstotal\u001b[0m \u001b[1;33m=\u001b[0m \u001b[0mmonthstotal\u001b[0m \u001b[1;33m+\u001b[0m \u001b[1;36m1\u001b[0m\u001b[1;33m\u001b[0m\u001b[1;33m\u001b[0m\u001b[0m\n\u001b[0;32m      3\u001b[0m \u001b[0mtotalpl\u001b[0m \u001b[1;33m=\u001b[0m \u001b[0mtotalpl\u001b[0m \u001b[1;33m+\u001b[0m \u001b[0mint\u001b[0m\u001b[1;33m(\u001b[0m\u001b[0mfirstrow\u001b[0m\u001b[1;33m[\u001b[0m\u001b[1;36m1\u001b[0m\u001b[1;33m]\u001b[0m\u001b[1;33m)\u001b[0m\u001b[1;33m\u001b[0m\u001b[1;33m\u001b[0m\u001b[0m\n\u001b[0;32m      4\u001b[0m \u001b[0mpreviouspl\u001b[0m \u001b[1;33m=\u001b[0m \u001b[0mint\u001b[0m\u001b[1;33m(\u001b[0m\u001b[0mfirstrow\u001b[0m\u001b[1;33m[\u001b[0m\u001b[1;36m1\u001b[0m\u001b[1;33m]\u001b[0m\u001b[1;33m)\u001b[0m\u001b[1;33m\u001b[0m\u001b[1;33m\u001b[0m\u001b[0m\n",
      "\u001b[1;31mValueError\u001b[0m: I/O operation on closed file."
     ]
    }
   ],
   "source": [
    "  firstrow = next(reader)\n",
    "  monthstotal = monthstotal + 1\n",
    "  totalpl = totalpl + int(firstrow[1])\n",
    "  previouspl = int(firstrow[1])"
   ]
  },
  {
   "cell_type": "code",
   "execution_count": 23,
   "id": "a79fcc6e-fcea-407e-964a-d3dda577da8d",
   "metadata": {},
   "outputs": [
    {
     "ename": "SyntaxError",
     "evalue": "invalid syntax (1645652822.py, line 12)",
     "output_type": "error",
     "traceback": [
      "\u001b[1;36m  File \u001b[1;32m\"C:\\Users\\seema\\AppData\\Local\\Temp\\ipykernel_10376\\1645652822.py\"\u001b[1;36m, line \u001b[1;32m12\u001b[0m\n\u001b[1;33m    changelist = changelist + net_change\u001b[0m\n\u001b[1;37m    ^\u001b[0m\n\u001b[1;31mSyntaxError\u001b[0m\u001b[1;31m:\u001b[0m invalid syntax\n"
     ]
    }
   ],
   "source": [
    "for row in reader:\n",
    "    \n",
    "    #The total number of months included in the dataset\n",
    " monthstotal = monthstotal + 1\n",
    "\n",
    "#The net total amount of Profit/Losses over the entire period\n",
    " totalpl = totalpl + int(firstrow[1])\n",
    "    \n",
    "#net change\n",
    " net_change = int(row[1])-previouspl\n",
    " previouspl = int(row[1]\n",
    " changelist = changelist + net_change\n",
    " changemonth = changemonth + [row[0]]\n",
    "                 \n",
    "    "
   ]
  },
  {
   "cell_type": "code",
   "execution_count": null,
   "id": "0f2db94a-1d82-404b-ba8b-9aa6b7f490be",
   "metadata": {},
   "outputs": [],
   "source": [
    "#The greatest increase in profits (date and amount) over the entire period\n",
    "if net_change > greatestincrease[1]:\n",
    "    greatestincrease = row[0]\n",
    "    greatestincrease = net_change\n",
    "    \n",
    "    "
   ]
  },
  {
   "cell_type": "code",
   "execution_count": null,
   "id": "7b644194-d5bb-47c6-9084-a5b1d5d316f4",
   "metadata": {},
   "outputs": [],
   "source": [
    "#The greatest decrease in losses (date and amount) over the entire period\n",
    "if net_change > greatestdecrease[1]:\n",
    "    greatestdecrease = row[0]\n",
    "    greatestdecrease = net_change"
   ]
  },
  {
   "cell_type": "code",
   "execution_count": 28,
   "id": "e42b88cc-e399-4b14-9286-4e02fe808f92",
   "metadata": {},
   "outputs": [
    {
     "ename": "SyntaxError",
     "evalue": "invalid syntax (1362806663.py, line 2)",
     "output_type": "error",
     "traceback": [
      "\u001b[1;36m  File \u001b[1;32m\"C:\\Users\\seema\\AppData\\Local\\Temp\\ipykernel_10376\\1362806663.py\"\u001b[1;36m, line \u001b[1;32m2\u001b[0m\n\u001b[1;33m    netmonth_avg = round(sum(changelist)/len(changelist).2)\u001b[0m\n\u001b[1;37m                                                        ^\u001b[0m\n\u001b[1;31mSyntaxError\u001b[0m\u001b[1;31m:\u001b[0m invalid syntax\n"
     ]
    }
   ],
   "source": [
    "#The average of the changes in Profit/Losses over the entire period\n",
    "netmonth_avg = round(sum(changelist)/len(changelist).2)\n",
    "netmonth_avg\n",
    "print(\"netmonth_avg)"
   ]
  },
  {
   "cell_type": "markdown",
   "id": "eddb2d28-3c77-42a8-b744-0a19340e537b",
   "metadata": {},
   "source": [
    "#Your final script should print the analysis to the terminal and export a text file with the results\n",
    "\n",
    " print(\"netmonth_avg\")"
   ]
  },
  {
   "cell_type": "code",
   "execution_count": null,
   "id": "be023ad0-642a-4fba-ab5d-a26c3b900985",
   "metadata": {},
   "outputs": [],
   "source": []
  }
 ],
 "metadata": {
  "kernelspec": {
   "display_name": "Python 3 (ipykernel)",
   "language": "python",
   "name": "python3"
  },
  "language_info": {
   "codemirror_mode": {
    "name": "ipython",
    "version": 3
   },
   "file_extension": ".py",
   "mimetype": "text/x-python",
   "name": "python",
   "nbconvert_exporter": "python",
   "pygments_lexer": "ipython3",
   "version": "3.9.13"
  }
 },
 "nbformat": 4,
 "nbformat_minor": 5
}
